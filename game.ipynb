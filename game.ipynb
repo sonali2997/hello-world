{
  "nbformat": 4,
  "nbformat_minor": 0,
  "metadata": {
    "colab": {
      "name": "game.ipynb",
      "version": "0.3.2",
      "provenance": [],
      "include_colab_link": true
    },
    "kernelspec": {
      "name": "python3",
      "display_name": "Python 3"
    },
    "accelerator": "GPU"
  },
  "cells": [
    {
      "cell_type": "markdown",
      "metadata": {
        "id": "view-in-github",
        "colab_type": "text"
      },
      "source": [
        "[View in Colaboratory](https://colab.research.google.com/github/sonali2997/hello-world/blob/master/game.ipynb)"
      ]
    },
    {
      "metadata": {
        "id": "wNXc6Efrefiy",
        "colab_type": "code",
        "colab": {
          "base_uri": "https://localhost:8080/",
          "height": 68
        },
        "outputId": "ae10a531-2ec9-4e9f-d094-9c8794c77098"
      },
      "cell_type": "code",
      "source": [
        "def intro():\n",
        "  print ('You enter a dark room and cannot find the exit door.After walking a few steps you find three doors.')\n",
        "  print ('Do you want to enter door#1 ,door#2 or door#3?')\n",
        "  d=input()\n",
        "  if(d==1):\n",
        "    door_1()\n",
        "  '''elif(d==2):\n",
        "    door_2()\n",
        "  else:\n",
        "    door_3()'''\n",
        "  \n",
        "  \n",
        "def door_1():\n",
        "  print('Theres a giant bear inside.He is slowly walking towards you.')\n",
        "  print('#1 scream at the bear?')\n",
        "  print('#2 appear dead?')\n",
        "  b=int(input())\n",
        "    \n",
        "  if b==1: \n",
        "    print ('You scream at the bear and the bear smashes your face.')\n",
        "    \n",
        "  elif b==2:\n",
        "    print ('You appear dead.The bear comes near you,thinks you to be deceased and runs away.Good job!')\n",
        "    \n",
        "  else:\n",
        "    print ('Well, you have no choice,Bear eats you otherwise'%b)\n",
        "    \n",
        "intro()   "
      ],
      "execution_count": 1,
      "outputs": [
        {
          "output_type": "stream",
          "text": [
            "You enter a dark room and cannot find the exit door.After walking a few steps you find three doors.\n",
            "Do you want to enter door#1 ,door#2 or door#3?\n",
            "1\n"
          ],
          "name": "stdout"
        }
      ]
    },
    {
      "metadata": {
        "id": "3y0knRVOsKSK",
        "colab_type": "code",
        "colab": {
          "base_uri": "https://localhost:8080/",
          "height": 311
        },
        "outputId": "ccf63a38-36c1-409c-b609-4ecc2eca73ce"
      },
      "cell_type": "code",
      "source": [
        "def intro():\n",
        "  print ('You enter a dark room and cannot find the exit door.After walking a few steps you find three doors.')\n",
        "  print ('Do you want to enter door#1 ,door#2 or door#3?')\n",
        "  d=int(input())\n",
        "  if(d==1):\n",
        "    door_1()\n",
        "  elif(d==2):\n",
        "    door_2()\n",
        "  else:\n",
        "    door_3()\n",
        "  \n",
        "  \n",
        "def door_1():\n",
        "  print('There is a giant bear inside.He is slowly walking towards you.')\n",
        "  print('#1 scream at the bear?')\n",
        "  print('#2 appear dead?')\n",
        "  b=int(input())\n",
        "    \n",
        "  if b==1: \n",
        "    print ('You scream at the bear and the bear smashes your face.')\n",
        "    \n",
        "  elif b==2:\n",
        "    print ('You appear dead.The bear comes near you,thinks you to be deceased and runs away.Good job!')\n",
        "    \n",
        "  else:\n",
        "    print ('Well, you have no choice,Bear eats you otherwise'%b)\n",
        "    \n",
        "    \n",
        "def door_2():\n",
        "  print('You see a big box infront with OPEN ME written over it')\n",
        "  print('Do you want to open the box or go back?Press #1 to open #2 to return')\n",
        "  \n",
        "  box=int(input())\n",
        "  answers=['a','A']\n",
        "  ans=['d','D']\n",
        "  if box==1:\n",
        "    print('The box exploded!You still have chance to run.')\n",
        "    print('press a if u want to run or d to die there')\n",
        "    run=str(input())\n",
        "    \n",
        "    if(answers):\n",
        "      for run in answers:\n",
        "        print('move towards door 3 and you will be safe')\n",
        "        print('running')\n",
        "      \n",
        "        door_3()\n",
        "    else :  \n",
        "      for run in ans:\n",
        "        print('oh! foolish jerk.you are dead')\n",
        "              \n",
        "  elif box==2:\n",
        "    print('wise decision! you are safe.Move towards door 3')\n",
        "    print('run!run!')\n",
        "    \n",
        "    door_3()\n",
        "    \n",
        "  else:\n",
        "    print('use your brain a little')\n",
        "    \n",
        "def door_3():\n",
        "  print('you are inside the room 3 and ')\n",
        "  print(' finally are infront of the exit door')\n",
        "  print('But,obstacles are yet to be overcomed dear.')\n",
        "  print('There is a huge rock infront,you need to move it out of your way to get out.search for tools in the room')\n",
        "  print('press 1 to pick a hammer,2 to lift an axe,3 to use a stick')\n",
        "  \n",
        "  t=int(input())\n",
        "  \n",
        "  if t==1:\n",
        "    print('Great! use the hammer to break the rock!')\n",
        "    print('you are done.congratulations you are finally out.')\n",
        "  \n",
        "  elif t==2:\n",
        "    print('okay! try breaking the rock .It will take a lil more of ur effort but you can succeed')\n",
        "    print('you did it! you are out. Breathe deep and relax')\n",
        "    \n",
        "  elif t==3:\n",
        "    print('Stick can never help you break the rock.Try using a hammer or an axe.Good luck!')\n",
        "  \n",
        "  else:\n",
        "    print('die there or find a way out.')\n",
        "    \n",
        "    \n",
        "  \n",
        "  \n",
        "        \n",
        "intro()   "
      ],
      "execution_count": 0,
      "outputs": [
        {
          "output_type": "stream",
          "text": [
            "You enter a dark room and cannot find the exit door.After walking a few steps you find three doors.\n",
            "Do you want to enter door#1 ,door#2 or door#3?\n",
            "2\n",
            "You see a big box infront with OPEN ME written over it\n",
            "Do you want to open the box or go back?Press #1 to open #2 to return\n",
            "1\n",
            "The box exploded!You still have chance to run.\n",
            "press a if u want to run or d to die there\n",
            "d\n",
            "move towards door 3 and you will be safe\n",
            "running\n",
            "you are inside the room 3 and \n",
            " finally are infront of the exit door\n",
            "But,obstacles are yet to be overcomed dear.\n",
            "There is a huge rock infront,you need to move it out of your way to get out.search for tools in the room\n",
            "press 1 to pick a hammer,2 to lift an axe,3 to use a stick\n"
          ],
          "name": "stdout"
        }
      ]
    }
  ]
}