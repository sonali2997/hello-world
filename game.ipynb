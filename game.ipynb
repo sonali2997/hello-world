{
  "nbformat": 4,
  "nbformat_minor": 0,
  "metadata": {
    "colab": {
      "name": "game.ipynb",
      "version": "0.3.2",
      "provenance": [],
      "include_colab_link": true
    },
    "kernelspec": {
      "name": "python3",
      "display_name": "Python 3"
    },
    "accelerator": "GPU"
  },
  "cells": [
    {
      "cell_type": "markdown",
      "metadata": {
        "id": "view-in-github",
        "colab_type": "text"
      },
      "source": [
        "[View in Colaboratory](https://colab.research.google.com/github/sonali2997/hello-world/blob/master/game.ipynb)"
      ]
    },
    {
      "metadata": {
        "id": "wNXc6Efrefiy",
        "colab_type": "code",
        "colab": {
          "base_uri": "https://localhost:8080/",
          "height": 68
        },
        "outputId": "6d61d1a9-6c0c-4c17-929e-f951f7bc7ba4"
      },
      "cell_type": "code",
      "source": [
        "def intro():\n",
        "  print ('You enter a dark room and cannot find the exit door.After walking a few steps you find three doors.')\n",
        "  print ('Do you want to enter door#1 ,door#2 or door#3?')\n",
        "  d=input()\n",
        "  if(d==1):\n",
        "    door_1()\n",
        "  '''elif(d==2):\n",
        "    door_2()\n",
        "  else:\n",
        "    door_3()'''\n",
        "  \n",
        "  \n",
        "def door_1():\n",
        "  print('Theres a giant bear inside.He is slowly walking towards you.')\n",
        "  print('#1 scream at the bear?')\n",
        "  print('#2 appear dead?')\n",
        "  b=int(input())\n",
        "    \n",
        "  if b==1: \n",
        "    print ('You scream at the bear and the bear smashes your face.')\n",
        "    \n",
        "  elif b==2:\n",
        "    print ('You appear dead.The bear comes near you,thinks you to be deceased and runs away.Good job!')\n",
        "    \n",
        "  else:\n",
        "    print ('Well, you have no choice,Bear eats you otherwise'%b)\n",
        "    \n",
        "intro()   "
      ],
      "execution_count": 7,
      "outputs": [
        {
          "output_type": "stream",
          "text": [
            "You enter a dark room and cannot find the exit door.After walking a few steps you find three doors.\n",
            "Do you want to enter door#1 ,door#2 or door#3?\n",
            "1\n"
          ],
          "name": "stdout"
        }
      ]
    },
    {
      "metadata": {
        "id": "3y0knRVOsKSK",
        "colab_type": "code",
        "colab": {}
      },
      "cell_type": "code",
      "source": [
        "def intro():\n",
        "  print ('You enter a dark room and cannot find the exit door.After walking a few steps you find three doors.')\n",
        "  print ('Do you want to enter door#1 ,door#2 or door#3?')\n",
        "  d=input()\n",
        "  if(d==1):\n",
        "    door_1()\n",
        "  '''elif(d==2):\n",
        "    door_2()\n",
        "  else:\n",
        "    door_3()'''\n",
        "  \n",
        "  \n",
        "def door_1():\n",
        "  print('Theres a giant bear inside.He is slowly walking towards you.')\n",
        "  print('#1 scream at the bear?')\n",
        "  print('#2 appear dead?')\n",
        "  b=int(input())\n",
        "    \n",
        "  if b==1: \n",
        "    print ('You scream at the bear and the bear smashes your face.')\n",
        "    \n",
        "  elif b==2:\n",
        "    print ('You appear dead.The bear comes near you,thinks you to be deceased and runs away.Good job!')\n",
        "    \n",
        "  else:\n",
        "    print ('Well, you have no choice,Bear eats you otherwise'%b)\n",
        "    \n",
        "intro()   "
      ],
      "execution_count": 0,
      "outputs": []
    },
    {
      "metadata": {
        "id": "xca3_olVrYLl",
        "colab_type": "code",
        "colab": {
          "base_uri": "https://localhost:8080/",
          "height": 51
        },
        "outputId": "646f9dd8-afd9-404e-e4a1-e178e4081042"
      },
      "cell_type": "code",
      "source": [
        "def add():\n",
        "  print ('25')\n",
        "  happy()\n",
        "  \n",
        "def happy():\n",
        "  print('i m happy')\n",
        "  \n",
        "add()  \n"
      ],
      "execution_count": 9,
      "outputs": [
        {
          "output_type": "stream",
          "text": [
            "25\n",
            "i m happy\n"
          ],
          "name": "stdout"
        }
      ]
    }
  ]
}